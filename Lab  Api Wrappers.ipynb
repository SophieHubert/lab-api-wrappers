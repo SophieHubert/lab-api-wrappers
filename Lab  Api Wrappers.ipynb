{
 "cells": [
  {
   "cell_type": "raw",
   "id": "cf652eb0",
   "metadata": {},
   "source": [
    "Lab | API wrappers - Create your collection of songs & audio features"
   ]
  },
  {
   "cell_type": "raw",
   "id": "2ac213e3",
   "metadata": {},
   "source": [
    "Instructions\n",
    "\n",
    "To move forward with the project, you need to create a collection of songs with their audio features - as large as possible!\n",
    "\n",
    "These are the songs that we will cluster. And, later, when the user inputs a song, we will find the cluster to which the song \n",
    "belongs and recommend a song from the same cluster. The more songs you have, the more accurate and diverse recommendations \n",
    "you'll be able to give. Although... you might want to make sure the collected songs are \"curated\" in a certain way. Try to find\n",
    "playlists of songs that are diverse, but also that meet certain standards.\n",
    "\n",
    "The process of sending hundreds or thousands of requests can take some time - it's normal if you have to wait a few minutes \n",
    "(or, if you're ambitious, even hours) to get all the data you need.\n",
    "\n",
    "An idea for collecting as many songs as possible is to start with all the songs of a big, diverse playlist and then go to every \n",
    " artist present in the playlist and grab every song of every album of that artist. The amount of songs you'll be collecting per \n",
    " playlist will grow exponentially!"
   ]
  },
  {
   "cell_type": "code",
   "execution_count": null,
   "id": "e4a608fd",
   "metadata": {},
   "outputs": [],
   "source": []
  }
 ],
 "metadata": {
  "kernelspec": {
   "display_name": "Python 3",
   "language": "python",
   "name": "python3"
  },
  "language_info": {
   "codemirror_mode": {
    "name": "ipython",
    "version": 3
   },
   "file_extension": ".py",
   "mimetype": "text/x-python",
   "name": "python",
   "nbconvert_exporter": "python",
   "pygments_lexer": "ipython3",
   "version": "3.8.8"
  },
  "toc": {
   "base_numbering": 1,
   "nav_menu": {},
   "number_sections": true,
   "sideBar": true,
   "skip_h1_title": true,
   "title_cell": "Table of Contents",
   "title_sidebar": "Contents",
   "toc_cell": false,
   "toc_position": {},
   "toc_section_display": true,
   "toc_window_display": false
  },
  "varInspector": {
   "cols": {
    "lenName": 16,
    "lenType": 16,
    "lenVar": 40
   },
   "kernels_config": {
    "python": {
     "delete_cmd_postfix": "",
     "delete_cmd_prefix": "del ",
     "library": "var_list.py",
     "varRefreshCmd": "print(var_dic_list())"
    },
    "r": {
     "delete_cmd_postfix": ") ",
     "delete_cmd_prefix": "rm(",
     "library": "var_list.r",
     "varRefreshCmd": "cat(var_dic_list()) "
    }
   },
   "types_to_exclude": [
    "module",
    "function",
    "builtin_function_or_method",
    "instance",
    "_Feature"
   ],
   "window_display": false
  }
 },
 "nbformat": 4,
 "nbformat_minor": 5
}
